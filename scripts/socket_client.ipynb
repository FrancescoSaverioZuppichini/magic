{
 "cells": [
  {
   "cell_type": "code",
   "execution_count": null,
   "metadata": {},
   "outputs": [
    {
     "name": "stdout",
     "output_type": "stream",
     "text": [
      "connection established\n",
      "connection established\n"
     ]
    }
   ],
   "source": [
    "# https://python-socketio.readthedocs.io/en/latest/intro.html\n",
    "\n",
    "import socketio\n",
    "\n",
    "sio = socketio.Client()\n",
    "\n",
    "@sio.event\n",
    "def connect():\n",
    "    print('connection established')\n",
    "\n",
    "@sio.event\n",
    "def my_message(data):\n",
    "    print('message received with ', data)\n",
    "    sio.emit('my response', {'response': 'my response'})\n",
    "\n",
    "@sio.event\n",
    "def disconnect():\n",
    "    print('disconnected from server')\n",
    "\n",
    "sio.connect('http://localhost:4000')\n",
    "# sio.wait()"
   ]
  },
  {
   "cell_type": "code",
   "execution_count": null,
   "metadata": {},
   "outputs": [],
   "source": [
    "sio.emit('wee', room='test')"
   ]
  },
  {
   "cell_type": "code",
   "execution_count": null,
   "metadata": {},
   "outputs": [],
   "source": []
  }
 ],
 "metadata": {
  "kernelspec": {
   "display_name": "Python 3",
   "language": "python",
   "name": "python3"
  },
  "language_info": {
   "codemirror_mode": {
    "name": "ipython",
    "version": 3
   },
   "file_extension": ".py",
   "mimetype": "text/x-python",
   "name": "python",
   "nbconvert_exporter": "python",
   "pygments_lexer": "ipython3",
   "version": "3.7.5"
  }
 },
 "nbformat": 4,
 "nbformat_minor": 2
}
