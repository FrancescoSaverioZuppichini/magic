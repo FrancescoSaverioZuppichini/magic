{
 "cells": [
  {
   "cell_type": "code",
   "execution_count": 1,
   "metadata": {},
   "outputs": [],
   "source": [
    "import json\n",
    "import pandas as pd\n",
    "import numpy as np"
   ]
  },
  {
   "cell_type": "markdown",
   "metadata": {},
   "source": [
    "## Preprocessign"
   ]
  },
  {
   "cell_type": "code",
   "execution_count": 4,
   "metadata": {},
   "outputs": [
    {
     "ename": "FileNotFoundError",
     "evalue": "[Errno 2] No such file or directory: 'AllPrintings.json'",
     "output_type": "error",
     "traceback": [
      "\u001b[0;31m---------------------------------------------------------------------------\u001b[0m",
      "\u001b[0;31mFileNotFoundError\u001b[0m                         Traceback (most recent call last)",
      "\u001b[0;32m<ipython-input-4-d72d49fa2e0b>\u001b[0m in \u001b[0;36m<module>\u001b[0;34m\u001b[0m\n\u001b[0;32m----> 1\u001b[0;31m \u001b[0;32mwith\u001b[0m \u001b[0mopen\u001b[0m\u001b[0;34m(\u001b[0m\u001b[0;34m'AllPrintings.json'\u001b[0m\u001b[0;34m)\u001b[0m \u001b[0;32mas\u001b[0m \u001b[0mf\u001b[0m\u001b[0;34m:\u001b[0m\u001b[0;34m\u001b[0m\u001b[0;34m\u001b[0m\u001b[0m\n\u001b[0m\u001b[1;32m      2\u001b[0m         \u001b[0mdata\u001b[0m \u001b[0;34m=\u001b[0m \u001b[0mjson\u001b[0m\u001b[0;34m.\u001b[0m\u001b[0mload\u001b[0m\u001b[0;34m(\u001b[0m\u001b[0mf\u001b[0m\u001b[0;34m)\u001b[0m\u001b[0;34m\u001b[0m\u001b[0;34m\u001b[0m\u001b[0m\n",
      "\u001b[0;31mFileNotFoundError\u001b[0m: [Errno 2] No such file or directory: 'AllPrintings.json'"
     ]
    }
   ],
   "source": [
    "with open('AllPrintings.json') as f:\n",
    "        data = json.load(f)"
   ]
  },
  {
   "cell_type": "markdown",
   "metadata": {},
   "source": [
    "Let's load all the cards in one big `.json`"
   ]
  },
  {
   "cell_type": "code",
   "execution_count": 3,
   "metadata": {
    "scrolled": false
   },
   "outputs": [],
   "source": [
    "dfs = []\n",
    "\n",
    "for printing in data.values():\n",
    "    # load only one for now\n",
    "    df = pd.DataFrame(printing['cards'])\n",
    "    dfs.append(df)\n",
    "\n",
    "\n",
    "df = pd.concat(dfs, sort=False)\n",
    "df.reset_index(inplace=True)"
   ]
  },
  {
   "cell_type": "code",
   "execution_count": 4,
   "metadata": {
    "scrolled": true
   },
   "outputs": [],
   "source": [
    "df"
   ]
  },
  {
   "cell_type": "code",
   "execution_count": 8,
   "metadata": {},
   "outputs": [],
   "source": [
    "df.to_json('AllCards.json', orient='records')"
   ]
  },
  {
   "cell_type": "markdown",
   "metadata": {},
   "source": [
    "## Parsed cards"
   ]
  },
  {
   "cell_type": "code",
   "execution_count": 2,
   "metadata": {},
   "outputs": [],
   "source": [
    "with open('AllCards.json') as f:\n",
    "        data = json.load(f)\n",
    "        \n",
    "df = pd.DataFrame(data)"
   ]
  },
  {
   "cell_type": "code",
   "execution_count": 5,
   "metadata": {},
   "outputs": [],
   "source": [
    "df['_id'] = df.scryfallId"
   ]
  },
  {
   "cell_type": "code",
   "execution_count": null,
   "metadata": {},
   "outputs": [],
   "source": [
    "df.info()"
   ]
  },
  {
   "cell_type": "code",
   "execution_count": 6,
   "metadata": {},
   "outputs": [],
   "source": [
    "df.to_json('AllCardsWithId.json', orient='records')"
   ]
  },
  {
   "cell_type": "code",
   "execution_count": 3,
   "metadata": {
    "scrolled": true
   },
   "outputs": [
    {
     "data": {
      "text/html": [
       "<div>\n",
       "<style scoped>\n",
       "    .dataframe tbody tr th:only-of-type {\n",
       "        vertical-align: middle;\n",
       "    }\n",
       "\n",
       "    .dataframe tbody tr th {\n",
       "        vertical-align: top;\n",
       "    }\n",
       "\n",
       "    .dataframe thead th {\n",
       "        text-align: right;\n",
       "    }\n",
       "</style>\n",
       "<table border=\"1\" class=\"dataframe\">\n",
       "  <thead>\n",
       "    <tr style=\"text-align: right;\">\n",
       "      <th></th>\n",
       "      <th>index</th>\n",
       "      <th>artist</th>\n",
       "      <th>borderColor</th>\n",
       "      <th>colorIdentity</th>\n",
       "      <th>colors</th>\n",
       "      <th>convertedManaCost</th>\n",
       "      <th>edhrecRank</th>\n",
       "      <th>flavorText</th>\n",
       "      <th>foreignData</th>\n",
       "      <th>frameVersion</th>\n",
       "      <th>...</th>\n",
       "      <th>isOnlineOnly</th>\n",
       "      <th>hand</th>\n",
       "      <th>life</th>\n",
       "      <th>duelDeck</th>\n",
       "      <th>isBuyABox</th>\n",
       "      <th>isPromo</th>\n",
       "      <th>isTimeshifted</th>\n",
       "      <th>isDateStamped</th>\n",
       "      <th>isOversized</th>\n",
       "      <th>isTextless</th>\n",
       "    </tr>\n",
       "  </thead>\n",
       "  <tbody>\n",
       "    <tr>\n",
       "      <th>0</th>\n",
       "      <td>0</td>\n",
       "      <td>Rebecca Guay</td>\n",
       "      <td>black</td>\n",
       "      <td>[G]</td>\n",
       "      <td>[G]</td>\n",
       "      <td>4.0</td>\n",
       "      <td>995.0</td>\n",
       "      <td>None</td>\n",
       "      <td>[{'language': 'German', 'multiverseId': 148402...</td>\n",
       "      <td>2003</td>\n",
       "      <td>...</td>\n",
       "      <td>None</td>\n",
       "      <td>None</td>\n",
       "      <td>None</td>\n",
       "      <td>None</td>\n",
       "      <td>None</td>\n",
       "      <td>None</td>\n",
       "      <td>None</td>\n",
       "      <td>None</td>\n",
       "      <td>None</td>\n",
       "      <td>None</td>\n",
       "    </tr>\n",
       "  </tbody>\n",
       "</table>\n",
       "<p>1 rows × 73 columns</p>\n",
       "</div>"
      ],
      "text/plain": [
       "   index        artist borderColor colorIdentity colors  convertedManaCost  \\\n",
       "0      0  Rebecca Guay       black           [G]    [G]                4.0   \n",
       "\n",
       "   edhrecRank flavorText                                        foreignData  \\\n",
       "0       995.0       None  [{'language': 'German', 'multiverseId': 148402...   \n",
       "\n",
       "  frameVersion  ...  isOnlineOnly  hand  life duelDeck isBuyABox isPromo  \\\n",
       "0         2003  ...          None  None  None     None      None    None   \n",
       "\n",
       "  isTimeshifted isDateStamped isOversized isTextless  \n",
       "0          None          None        None       None  \n",
       "\n",
       "[1 rows x 73 columns]"
      ]
     },
     "execution_count": 3,
     "metadata": {},
     "output_type": "execute_result"
    }
   ],
   "source": [
    "df.head(1)"
   ]
  },
  {
   "cell_type": "code",
   "execution_count": 17,
   "metadata": {
    "scrolled": false
   },
   "outputs": [
    {
     "data": {
      "text/plain": [
       "array(['Artifact', 'Autobot', 'Character', 'Conspiracy', 'Creature',\n",
       "       'Eaturecray', 'Elemental', 'Enchantment', 'Ever', 'Hero',\n",
       "       'Instant', 'Land', 'Phenomenon', 'Plane', 'Planeswalker',\n",
       "       'Scariest', 'Scheme', 'See', 'Sorcery', 'Specter', 'Summon',\n",
       "       'Tribal', 'Vanguard', 'Wolf', 'You’ll', 'instant'], dtype='<U12')"
      ]
     },
     "execution_count": 17,
     "metadata": {},
     "output_type": "execute_result"
    }
   ],
   "source": [
    "import itertools\n",
    "types = list(df.types.values)\n",
    "types = list(itertools.chain(*types))\n",
    "\n",
    "np.unique(types)"
   ]
  },
  {
   "cell_type": "code",
   "execution_count": 18,
   "metadata": {},
   "outputs": [
    {
     "data": {
      "text/plain": [
       "array(['B', 'G', 'R', 'U', 'W'], dtype='<U1')"
      ]
     },
     "execution_count": 18,
     "metadata": {},
     "output_type": "execute_result"
    }
   ],
   "source": [
    "import itertools\n",
    "colors = list(df.colors.values)\n",
    "colors = list(itertools.chain(*colors))\n",
    "\n",
    "np.unique(colors)"
   ]
  }
 ],
 "metadata": {
  "kernelspec": {
   "display_name": "Python 3",
   "language": "python",
   "name": "python3"
  },
  "language_info": {
   "codemirror_mode": {
    "name": "ipython",
    "version": 3
   },
   "file_extension": ".py",
   "mimetype": "text/x-python",
   "name": "python",
   "nbconvert_exporter": "python",
   "pygments_lexer": "ipython3",
   "version": "3.7.5"
  }
 },
 "nbformat": 4,
 "nbformat_minor": 2
}
