{
 "cells": [
  {
   "cell_type": "code",
   "execution_count": 1,
   "metadata": {},
   "outputs": [],
   "source": [
    "import json\n",
    "import pandas as pd"
   ]
  },
  {
   "cell_type": "markdown",
   "metadata": {},
   "source": [
    "## Preprocessign"
   ]
  },
  {
   "cell_type": "code",
   "execution_count": 2,
   "metadata": {},
   "outputs": [
    {
     "ename": "FileNotFoundError",
     "evalue": "[Errno 2] No such file or directory: 'AllPrintings.json'",
     "output_type": "error",
     "traceback": [
      "\u001b[0;31m---------------------------------------------------------------------------\u001b[0m",
      "\u001b[0;31mFileNotFoundError\u001b[0m                         Traceback (most recent call last)",
      "\u001b[0;32m<ipython-input-2-d72d49fa2e0b>\u001b[0m in \u001b[0;36m<module>\u001b[0;34m\u001b[0m\n\u001b[0;32m----> 1\u001b[0;31m \u001b[0;32mwith\u001b[0m \u001b[0mopen\u001b[0m\u001b[0;34m(\u001b[0m\u001b[0;34m'AllPrintings.json'\u001b[0m\u001b[0;34m)\u001b[0m \u001b[0;32mas\u001b[0m \u001b[0mf\u001b[0m\u001b[0;34m:\u001b[0m\u001b[0;34m\u001b[0m\u001b[0;34m\u001b[0m\u001b[0m\n\u001b[0m\u001b[1;32m      2\u001b[0m         \u001b[0mdata\u001b[0m \u001b[0;34m=\u001b[0m \u001b[0mjson\u001b[0m\u001b[0;34m.\u001b[0m\u001b[0mload\u001b[0m\u001b[0;34m(\u001b[0m\u001b[0mf\u001b[0m\u001b[0;34m)\u001b[0m\u001b[0;34m\u001b[0m\u001b[0;34m\u001b[0m\u001b[0m\n",
      "\u001b[0;31mFileNotFoundError\u001b[0m: [Errno 2] No such file or directory: 'AllPrintings.json'"
     ]
    }
   ],
   "source": [
    "with open('AllPrintings.json') as f:\n",
    "        data = json.load(f)"
   ]
  },
  {
   "cell_type": "markdown",
   "metadata": {},
   "source": [
    "Let's load all the cards in one big `.json`"
   ]
  },
  {
   "cell_type": "code",
   "execution_count": 3,
   "metadata": {
    "scrolled": false
   },
   "outputs": [],
   "source": [
    "dfs = []\n",
    "\n",
    "for printing in data.values():\n",
    "    # load only one for now\n",
    "    df = pd.DataFrame(printing['cards'])\n",
    "    dfs.append(df)\n",
    "\n",
    "\n",
    "df = pd.concat(dfs, sort=False)\n",
    "df.reset_index(inplace=True)"
   ]
  },
  {
   "cell_type": "code",
   "execution_count": 4,
   "metadata": {
    "scrolled": true
   },
   "outputs": [],
   "source": [
    "df"
   ]
  },
  {
   "cell_type": "code",
   "execution_count": 8,
   "metadata": {},
   "outputs": [],
   "source": [
    "df.to_json('AllCards.json', orient='records')"
   ]
  },
  {
   "cell_type": "code",
   "execution_count": 3,
   "metadata": {},
   "outputs": [],
   "source": [
    "with open('AllCards.json') as f:\n",
    "        data = json.load(f)\n",
    "        \n",
    "df = pd.DataFrame(data)"
   ]
  },
  {
   "cell_type": "code",
   "execution_count": 5,
   "metadata": {},
   "outputs": [
    {
     "data": {
      "text/html": [
       "<div>\n",
       "<style scoped>\n",
       "    .dataframe tbody tr th:only-of-type {\n",
       "        vertical-align: middle;\n",
       "    }\n",
       "\n",
       "    .dataframe tbody tr th {\n",
       "        vertical-align: top;\n",
       "    }\n",
       "\n",
       "    .dataframe thead th {\n",
       "        text-align: right;\n",
       "    }\n",
       "</style>\n",
       "<table border=\"1\" class=\"dataframe\">\n",
       "  <thead>\n",
       "    <tr style=\"text-align: right;\">\n",
       "      <th></th>\n",
       "      <th>index</th>\n",
       "      <th>artist</th>\n",
       "      <th>borderColor</th>\n",
       "      <th>colorIdentity</th>\n",
       "      <th>colors</th>\n",
       "      <th>convertedManaCost</th>\n",
       "      <th>edhrecRank</th>\n",
       "      <th>flavorText</th>\n",
       "      <th>foreignData</th>\n",
       "      <th>frameVersion</th>\n",
       "      <th>...</th>\n",
       "      <th>isOnlineOnly</th>\n",
       "      <th>hand</th>\n",
       "      <th>life</th>\n",
       "      <th>duelDeck</th>\n",
       "      <th>isBuyABox</th>\n",
       "      <th>isPromo</th>\n",
       "      <th>isTimeshifted</th>\n",
       "      <th>isDateStamped</th>\n",
       "      <th>isOversized</th>\n",
       "      <th>isTextless</th>\n",
       "    </tr>\n",
       "  </thead>\n",
       "  <tbody>\n",
       "    <tr>\n",
       "      <th>0</th>\n",
       "      <td>0</td>\n",
       "      <td>Rebecca Guay</td>\n",
       "      <td>black</td>\n",
       "      <td>[G]</td>\n",
       "      <td>[G]</td>\n",
       "      <td>4.0</td>\n",
       "      <td>995.0</td>\n",
       "      <td>None</td>\n",
       "      <td>[{'language': 'German', 'multiverseId': 148402...</td>\n",
       "      <td>2003</td>\n",
       "      <td>...</td>\n",
       "      <td>None</td>\n",
       "      <td>None</td>\n",
       "      <td>None</td>\n",
       "      <td>None</td>\n",
       "      <td>None</td>\n",
       "      <td>None</td>\n",
       "      <td>None</td>\n",
       "      <td>None</td>\n",
       "      <td>None</td>\n",
       "      <td>None</td>\n",
       "    </tr>\n",
       "  </tbody>\n",
       "</table>\n",
       "<p>1 rows × 73 columns</p>\n",
       "</div>"
      ],
      "text/plain": [
       "   index        artist borderColor colorIdentity colors  convertedManaCost  \\\n",
       "0      0  Rebecca Guay       black           [G]    [G]                4.0   \n",
       "\n",
       "   edhrecRank flavorText                                        foreignData  \\\n",
       "0       995.0       None  [{'language': 'German', 'multiverseId': 148402...   \n",
       "\n",
       "  frameVersion  ...  isOnlineOnly  hand  life duelDeck isBuyABox isPromo  \\\n",
       "0         2003  ...          None  None  None     None      None    None   \n",
       "\n",
       "  isTimeshifted isDateStamped isOversized isTextless  \n",
       "0          None          None        None       None  \n",
       "\n",
       "[1 rows x 73 columns]"
      ]
     },
     "execution_count": 5,
     "metadata": {},
     "output_type": "execute_result"
    }
   ],
   "source": [
    "df.head(1)"
   ]
  },
  {
   "cell_type": "code",
   "execution_count": 6,
   "metadata": {},
   "outputs": [
    {
     "data": {
      "text/plain": [
       "0        None\n",
       "1           2\n",
       "2        None\n",
       "3        None\n",
       "4        None\n",
       "         ... \n",
       "50592    None\n",
       "50593       2\n",
       "50594       4\n",
       "50595    None\n",
       "50596       3\n",
       "Name: toughness, Length: 50597, dtype: object"
      ]
     },
     "execution_count": 6,
     "metadata": {},
     "output_type": "execute_result"
    }
   ],
   "source": [
    "df.toughness"
   ]
  },
  {
   "cell_type": "code",
   "execution_count": 4,
   "metadata": {},
   "outputs": [
    {
     "name": "stdout",
     "output_type": "stream",
     "text": [
      "<class 'pandas.core.frame.DataFrame'>\n",
      "Index: 50597 entries, 0 to 50596\n",
      "Data columns (total 73 columns):\n",
      "index                     50597 non-null int64\n",
      "artist                    50595 non-null object\n",
      "borderColor               50597 non-null object\n",
      "colorIdentity             50597 non-null object\n",
      "colors                    50597 non-null object\n",
      "convertedManaCost         50597 non-null float64\n",
      "edhrecRank                46123 non-null float64\n",
      "flavorText                28105 non-null object\n",
      "foreignData               50597 non-null object\n",
      "frameVersion              50597 non-null object\n",
      "hasFoil                   50597 non-null bool\n",
      "hasNoDeckLimit            10 non-null object\n",
      "hasNonFoil                50597 non-null bool\n",
      "isAlternative             232 non-null object\n",
      "isMtgo                    30529 non-null object\n",
      "isPaper                   44909 non-null object\n",
      "isReprint                 29344 non-null object\n",
      "layout                    50597 non-null object\n",
      "leadershipSkills          2906 non-null object\n",
      "legalities                50597 non-null object\n",
      "manaCost                  44134 non-null object\n",
      "mcmId                     37603 non-null float64\n",
      "mcmMetaId                 37603 non-null float64\n",
      "mtgoFoilId                24360 non-null float64\n",
      "mtgoId                    29917 non-null float64\n",
      "multiverseId              38274 non-null float64\n",
      "name                      50597 non-null object\n",
      "names                     2731 non-null object\n",
      "number                    50597 non-null object\n",
      "originalText              37476 non-null object\n",
      "originalType              38261 non-null object\n",
      "power                     23188 non-null object\n",
      "prices                    43403 non-null object\n",
      "printings                 50597 non-null object\n",
      "purchaseUrls              40213 non-null object\n",
      "rarity                    50597 non-null object\n",
      "rulings                   50597 non-null object\n",
      "scryfallId                50597 non-null object\n",
      "scryfallIllustrationId    50124 non-null object\n",
      "scryfallOracleId          50597 non-null object\n",
      "subtypes                  50597 non-null object\n",
      "supertypes                50597 non-null object\n",
      "tcgplayerProductId        43414 non-null float64\n",
      "text                      49695 non-null object\n",
      "toughness                 23188 non-null object\n",
      "type                      50597 non-null object\n",
      "types                     50597 non-null object\n",
      "uuid                      50597 non-null object\n",
      "variations                6196 non-null object\n",
      "isReserved                1333 non-null object\n",
      "isStarter                 13640 non-null object\n",
      "colorIndicator            159 non-null object\n",
      "frameEffect               1740 non-null object\n",
      "frameEffects              1740 non-null object\n",
      "loyalty                   649 non-null object\n",
      "watermark                 4257 non-null object\n",
      "isStorySpotlight          78 non-null object\n",
      "mtgArenaId                3669 non-null float64\n",
      "faceConvertedManaCost     815 non-null float64\n",
      "isFullArt                 405 non-null object\n",
      "otherFaceIds              903 non-null object\n",
      "side                      893 non-null object\n",
      "isArena                   3130 non-null object\n",
      "isOnlineOnly              3710 non-null object\n",
      "hand                      118 non-null object\n",
      "life                      118 non-null object\n",
      "duelDeck                  1594 non-null object\n",
      "isBuyABox                 67 non-null object\n",
      "isPromo                   4850 non-null object\n",
      "isTimeshifted             211 non-null object\n",
      "isDateStamped             1580 non-null object\n",
      "isOversized               396 non-null object\n",
      "isTextless                102 non-null object\n",
      "dtypes: bool(2), float64(10), int64(1), object(60)\n",
      "memory usage: 27.9+ MB\n"
     ]
    }
   ],
   "source": [
    "df.info()"
   ]
  },
  {
   "cell_type": "code",
   "execution_count": null,
   "metadata": {},
   "outputs": [],
   "source": []
  }
 ],
 "metadata": {
  "kernelspec": {
   "display_name": "Python 3",
   "language": "python",
   "name": "python3"
  },
  "language_info": {
   "codemirror_mode": {
    "name": "ipython",
    "version": 3
   },
   "file_extension": ".py",
   "mimetype": "text/x-python",
   "name": "python",
   "nbconvert_exporter": "python",
   "pygments_lexer": "ipython3",
   "version": "3.7.5"
  }
 },
 "nbformat": 4,
 "nbformat_minor": 2
}
