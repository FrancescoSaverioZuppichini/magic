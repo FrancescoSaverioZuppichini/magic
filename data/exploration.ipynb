{
 "cells": [
  {
   "cell_type": "code",
   "execution_count": 1,
   "metadata": {},
   "outputs": [],
   "source": [
    "import json\n",
    "import pandas as pd\n",
    "import numpy as np"
   ]
  },
  {
   "cell_type": "markdown",
   "metadata": {},
   "source": [
    "## Preprocessign"
   ]
  },
  {
   "cell_type": "code",
   "execution_count": 4,
   "metadata": {},
   "outputs": [
    {
     "ename": "FileNotFoundError",
     "evalue": "[Errno 2] No such file or directory: 'AllPrintings.json'",
     "output_type": "error",
     "traceback": [
      "\u001b[0;31m---------------------------------------------------------------------------\u001b[0m",
      "\u001b[0;31mFileNotFoundError\u001b[0m                         Traceback (most recent call last)",
      "\u001b[0;32m<ipython-input-4-d72d49fa2e0b>\u001b[0m in \u001b[0;36m<module>\u001b[0;34m\u001b[0m\n\u001b[0;32m----> 1\u001b[0;31m \u001b[0;32mwith\u001b[0m \u001b[0mopen\u001b[0m\u001b[0;34m(\u001b[0m\u001b[0;34m'AllPrintings.json'\u001b[0m\u001b[0;34m)\u001b[0m \u001b[0;32mas\u001b[0m \u001b[0mf\u001b[0m\u001b[0;34m:\u001b[0m\u001b[0;34m\u001b[0m\u001b[0;34m\u001b[0m\u001b[0m\n\u001b[0m\u001b[1;32m      2\u001b[0m         \u001b[0mdata\u001b[0m \u001b[0;34m=\u001b[0m \u001b[0mjson\u001b[0m\u001b[0;34m.\u001b[0m\u001b[0mload\u001b[0m\u001b[0;34m(\u001b[0m\u001b[0mf\u001b[0m\u001b[0;34m)\u001b[0m\u001b[0;34m\u001b[0m\u001b[0;34m\u001b[0m\u001b[0m\n",
      "\u001b[0;31mFileNotFoundError\u001b[0m: [Errno 2] No such file or directory: 'AllPrintings.json'"
     ]
    }
   ],
   "source": [
    "with open('AllPrintings.json') as f:\n",
    "        data = json.load(f)"
   ]
  },
  {
   "cell_type": "markdown",
   "metadata": {},
   "source": [
    "Let's load all the cards in one big `.json`"
   ]
  },
  {
   "cell_type": "code",
   "execution_count": 3,
   "metadata": {
    "scrolled": false
   },
   "outputs": [],
   "source": [
    "dfs = []\n",
    "\n",
    "for printing in data.values():\n",
    "    # load only one for now\n",
    "    df = pd.DataFrame(printing['cards'])\n",
    "    dfs.append(df)\n",
    "\n",
    "\n",
    "df = pd.concat(dfs, sort=False)\n",
    "df.reset_index(inplace=True)"
   ]
  },
  {
   "cell_type": "code",
   "execution_count": 4,
   "metadata": {
    "scrolled": true
   },
   "outputs": [],
   "source": [
    "df"
   ]
  },
  {
   "cell_type": "code",
   "execution_count": 8,
   "metadata": {},
   "outputs": [],
   "source": [
    "df.to_json('AllCards.json', orient='records')"
   ]
  },
  {
   "cell_type": "markdown",
   "metadata": {},
   "source": [
    "## Parsed cards"
   ]
  },
  {
   "cell_type": "code",
   "execution_count": 16,
   "metadata": {},
   "outputs": [],
   "source": [
    "with open('AllCards.json') as f:\n",
    "        data = json.load(f)\n",
    "        \n",
    "df = pd.DataFrame(data)"
   ]
  },
  {
   "cell_type": "code",
   "execution_count": 22,
   "metadata": {},
   "outputs": [],
   "source": [
    "df['_id'] = df.scryfallId.apply(lambda x:  {\"$oid\": x })\n"
   ]
  },
  {
   "cell_type": "code",
   "execution_count": 23,
   "metadata": {
    "scrolled": true
   },
   "outputs": [
    {
     "name": "stdout",
     "output_type": "stream",
     "text": [
      "<class 'pandas.core.frame.DataFrame'>\n",
      "RangeIndex: 50597 entries, 0 to 50596\n",
      "Data columns (total 74 columns):\n",
      "artist                    50595 non-null object\n",
      "borderColor               50597 non-null object\n",
      "colorIdentity             50597 non-null object\n",
      "colorIndicator            159 non-null object\n",
      "colors                    50597 non-null object\n",
      "convertedManaCost         50597 non-null float64\n",
      "duelDeck                  1594 non-null object\n",
      "edhrecRank                46123 non-null float64\n",
      "faceConvertedManaCost     815 non-null float64\n",
      "flavorText                28105 non-null object\n",
      "foreignData               50597 non-null object\n",
      "frameEffect               1740 non-null object\n",
      "frameEffects              1740 non-null object\n",
      "frameVersion              50597 non-null object\n",
      "hand                      118 non-null object\n",
      "hasFoil                   50597 non-null bool\n",
      "hasNoDeckLimit            10 non-null object\n",
      "hasNonFoil                50597 non-null bool\n",
      "index                     50597 non-null int64\n",
      "isAlternative             232 non-null object\n",
      "isArena                   3130 non-null object\n",
      "isBuyABox                 67 non-null object\n",
      "isDateStamped             1580 non-null object\n",
      "isFullArt                 405 non-null object\n",
      "isMtgo                    30529 non-null object\n",
      "isOnlineOnly              3710 non-null object\n",
      "isOversized               396 non-null object\n",
      "isPaper                   44909 non-null object\n",
      "isPromo                   4850 non-null object\n",
      "isReprint                 29344 non-null object\n",
      "isReserved                1333 non-null object\n",
      "isStarter                 13640 non-null object\n",
      "isStorySpotlight          78 non-null object\n",
      "isTextless                102 non-null object\n",
      "isTimeshifted             211 non-null object\n",
      "layout                    50597 non-null object\n",
      "leadershipSkills          2906 non-null object\n",
      "legalities                50597 non-null object\n",
      "life                      118 non-null object\n",
      "loyalty                   649 non-null object\n",
      "manaCost                  44134 non-null object\n",
      "mcmId                     37603 non-null float64\n",
      "mcmMetaId                 37603 non-null float64\n",
      "mtgArenaId                3669 non-null float64\n",
      "mtgoFoilId                24360 non-null float64\n",
      "mtgoId                    29917 non-null float64\n",
      "multiverseId              38274 non-null float64\n",
      "name                      50597 non-null object\n",
      "names                     2731 non-null object\n",
      "number                    50597 non-null object\n",
      "originalText              37476 non-null object\n",
      "originalType              38261 non-null object\n",
      "otherFaceIds              903 non-null object\n",
      "power                     23188 non-null object\n",
      "prices                    43403 non-null object\n",
      "printings                 50597 non-null object\n",
      "purchaseUrls              40213 non-null object\n",
      "rarity                    50597 non-null object\n",
      "rulings                   50597 non-null object\n",
      "scryfallId                50597 non-null object\n",
      "scryfallIllustrationId    50124 non-null object\n",
      "scryfallOracleId          50597 non-null object\n",
      "side                      893 non-null object\n",
      "subtypes                  50597 non-null object\n",
      "supertypes                50597 non-null object\n",
      "tcgplayerProductId        43414 non-null float64\n",
      "text                      49695 non-null object\n",
      "toughness                 23188 non-null object\n",
      "type                      50597 non-null object\n",
      "types                     50597 non-null object\n",
      "uuid                      50597 non-null object\n",
      "variations                6196 non-null object\n",
      "watermark                 4257 non-null object\n",
      "_id                       50597 non-null object\n",
      "dtypes: bool(2), float64(10), int64(1), object(61)\n",
      "memory usage: 27.9+ MB\n"
     ]
    }
   ],
   "source": [
    "df.info()"
   ]
  },
  {
   "cell_type": "code",
   "execution_count": 24,
   "metadata": {},
   "outputs": [],
   "source": [
    "df.to_json('AllCardsWithId.json', orient='records')"
   ]
  },
  {
   "cell_type": "code",
   "execution_count": 25,
   "metadata": {
    "scrolled": true
   },
   "outputs": [
    {
     "data": {
      "text/html": [
       "<div>\n",
       "<style scoped>\n",
       "    .dataframe tbody tr th:only-of-type {\n",
       "        vertical-align: middle;\n",
       "    }\n",
       "\n",
       "    .dataframe tbody tr th {\n",
       "        vertical-align: top;\n",
       "    }\n",
       "\n",
       "    .dataframe thead th {\n",
       "        text-align: right;\n",
       "    }\n",
       "</style>\n",
       "<table border=\"1\" class=\"dataframe\">\n",
       "  <thead>\n",
       "    <tr style=\"text-align: right;\">\n",
       "      <th></th>\n",
       "      <th>artist</th>\n",
       "      <th>borderColor</th>\n",
       "      <th>colorIdentity</th>\n",
       "      <th>colorIndicator</th>\n",
       "      <th>colors</th>\n",
       "      <th>convertedManaCost</th>\n",
       "      <th>duelDeck</th>\n",
       "      <th>edhrecRank</th>\n",
       "      <th>faceConvertedManaCost</th>\n",
       "      <th>flavorText</th>\n",
       "      <th>...</th>\n",
       "      <th>supertypes</th>\n",
       "      <th>tcgplayerProductId</th>\n",
       "      <th>text</th>\n",
       "      <th>toughness</th>\n",
       "      <th>type</th>\n",
       "      <th>types</th>\n",
       "      <th>uuid</th>\n",
       "      <th>variations</th>\n",
       "      <th>watermark</th>\n",
       "      <th>_id</th>\n",
       "    </tr>\n",
       "  </thead>\n",
       "  <tbody>\n",
       "    <tr>\n",
       "      <th>0</th>\n",
       "      <td>Rebecca Guay</td>\n",
       "      <td>black</td>\n",
       "      <td>[G]</td>\n",
       "      <td>None</td>\n",
       "      <td>[G]</td>\n",
       "      <td>4.0</td>\n",
       "      <td>None</td>\n",
       "      <td>995.0</td>\n",
       "      <td>NaN</td>\n",
       "      <td>None</td>\n",
       "      <td>...</td>\n",
       "      <td>[]</td>\n",
       "      <td>15023.0</td>\n",
       "      <td>If you would draw a card, you may instead choo...</td>\n",
       "      <td>None</td>\n",
       "      <td>Enchantment</td>\n",
       "      <td>[Enchantment]</td>\n",
       "      <td>1669af17-d287-5094-b005-4b143441442f</td>\n",
       "      <td>None</td>\n",
       "      <td>None</td>\n",
       "      <td>{'$oid': '46184f97-d5c9-4a98-9fd9-e19057ce9b7e'}</td>\n",
       "    </tr>\n",
       "  </tbody>\n",
       "</table>\n",
       "<p>1 rows × 74 columns</p>\n",
       "</div>"
      ],
      "text/plain": [
       "         artist borderColor colorIdentity colorIndicator colors  \\\n",
       "0  Rebecca Guay       black           [G]           None    [G]   \n",
       "\n",
       "   convertedManaCost duelDeck  edhrecRank  faceConvertedManaCost flavorText  \\\n",
       "0                4.0     None       995.0                    NaN       None   \n",
       "\n",
       "   ... supertypes tcgplayerProductId  \\\n",
       "0  ...         []            15023.0   \n",
       "\n",
       "                                                text toughness         type  \\\n",
       "0  If you would draw a card, you may instead choo...      None  Enchantment   \n",
       "\n",
       "           types                                  uuid  variations  watermark  \\\n",
       "0  [Enchantment]  1669af17-d287-5094-b005-4b143441442f        None       None   \n",
       "\n",
       "                                                _id  \n",
       "0  {'$oid': '46184f97-d5c9-4a98-9fd9-e19057ce9b7e'}  \n",
       "\n",
       "[1 rows x 74 columns]"
      ]
     },
     "execution_count": 25,
     "metadata": {},
     "output_type": "execute_result"
    }
   ],
   "source": [
    "df.head(1)"
   ]
  },
  {
   "cell_type": "code",
   "execution_count": 17,
   "metadata": {
    "scrolled": false
   },
   "outputs": [
    {
     "data": {
      "text/plain": [
       "array(['Artifact', 'Autobot', 'Character', 'Conspiracy', 'Creature',\n",
       "       'Eaturecray', 'Elemental', 'Enchantment', 'Ever', 'Hero',\n",
       "       'Instant', 'Land', 'Phenomenon', 'Plane', 'Planeswalker',\n",
       "       'Scariest', 'Scheme', 'See', 'Sorcery', 'Specter', 'Summon',\n",
       "       'Tribal', 'Vanguard', 'Wolf', 'You’ll', 'instant'], dtype='<U12')"
      ]
     },
     "execution_count": 17,
     "metadata": {},
     "output_type": "execute_result"
    }
   ],
   "source": [
    "import itertools\n",
    "types = list(df.types.values)\n",
    "types = list(itertools.chain(*types))\n",
    "\n",
    "np.unique(types)"
   ]
  },
  {
   "cell_type": "code",
   "execution_count": 18,
   "metadata": {
    "scrolled": true
   },
   "outputs": [
    {
     "data": {
      "text/plain": [
       "array(['B', 'G', 'R', 'U', 'W'], dtype='<U1')"
      ]
     },
     "execution_count": 18,
     "metadata": {},
     "output_type": "execute_result"
    }
   ],
   "source": [
    "import itertools\n",
    "colors = list(df.colors.values)\n",
    "colors = list(itertools.chain(*colors))\n",
    "\n",
    "np.unique(colors)"
   ]
  },
  {
   "cell_type": "markdown",
   "metadata": {},
   "source": [
    "## Decks"
   ]
  },
  {
   "cell_type": "code",
   "execution_count": 16,
   "metadata": {
    "scrolled": false
   },
   "outputs": [
    {
     "data": {
      "text/plain": [
       "{'code': 'KTK',\n",
       " 'meta': {'date': '2020-05-04',\n",
       "  'pricesDate': '2020-05-04',\n",
       "  'version': '4.6.3+20200504'},\n",
       " 'name': 'Abzan Siege',\n",
       " 'releaseDate': '2014-09-26',\n",
       " 'sideBoard': [],\n",
       " 'type': 'Intro Pack'}"
      ]
     },
     "execution_count": 16,
     "metadata": {},
     "output_type": "execute_result"
    }
   ],
   "source": [
    "with open('./AllDeckFiles/AbzanSiege_KTK.json') as f:\n",
    "        data = json.load(f)\n",
    "\n",
    "del data['mainBoard']\n",
    "\n",
    "# df = pd.DataFrame(data)\n",
    "data"
   ]
  },
  {
   "cell_type": "markdown",
   "metadata": {},
   "source": [
    "## Talk with DB"
   ]
  },
  {
   "cell_type": "code",
   "execution_count": 2,
   "metadata": {},
   "outputs": [],
   "source": [
    "from pymongo import MongoClient\n",
    "\n",
    "client = MongoClient()\n",
    "db = client.magic"
   ]
  },
  {
   "cell_type": "markdown",
   "metadata": {},
   "source": [
    "### Decks types"
   ]
  },
  {
   "cell_type": "code",
   "execution_count": 5,
   "metadata": {},
   "outputs": [],
   "source": [
    "decks = db.decks"
   ]
  },
  {
   "cell_type": "code",
   "execution_count": 5,
   "metadata": {},
   "outputs": [
    {
     "data": {
      "text/plain": [
       "['Advanced Deck',\n",
       " 'Advanced Pack',\n",
       " 'Archenemy Deck',\n",
       " 'Basic Deck',\n",
       " 'Brawl Deck',\n",
       " 'Challenger Deck',\n",
       " 'Clash Pack',\n",
       " 'Commander Deck',\n",
       " 'Duel Deck',\n",
       " 'Duel Of The Planeswalkers Deck',\n",
       " 'Event Deck',\n",
       " 'Game Night Deck',\n",
       " 'Guild Kit',\n",
       " 'Halfdeck',\n",
       " 'Intro Pack',\n",
       " 'MTGO Theme Deck',\n",
       " 'Planechase Deck',\n",
       " 'Planeswalker Deck',\n",
       " 'Premium Deck',\n",
       " 'Spellslinger Starter Kit',\n",
       " 'Starter Deck',\n",
       " 'Theme Deck',\n",
       " 'Welcome Deck']"
      ]
     },
     "execution_count": 5,
     "metadata": {},
     "output_type": "execute_result"
    }
   ],
   "source": [
    "decks.distinct('type')"
   ]
  },
  {
   "cell_type": "markdown",
   "metadata": {},
   "source": [
    "### Cards sub types"
   ]
  },
  {
   "cell_type": "code",
   "execution_count": 8,
   "metadata": {
    "scrolled": true
   },
   "outputs": [
    {
     "data": {
      "text/plain": [
       "['Abian',\n",
       " 'Adventure',\n",
       " 'Advisor',\n",
       " 'Aetherborn',\n",
       " 'Ajani',\n",
       " 'Alara',\n",
       " 'Alicorn',\n",
       " 'Alien',\n",
       " 'Ally',\n",
       " 'Aminatou',\n",
       " 'Angel',\n",
       " 'Angrath',\n",
       " 'Antelope',\n",
       " 'Ape',\n",
       " 'Arcane',\n",
       " 'Archer',\n",
       " 'Archon',\n",
       " 'Arkhos',\n",
       " 'Arlinn',\n",
       " 'Art',\n",
       " 'Artificer',\n",
       " 'Ashiok',\n",
       " 'Assassin',\n",
       " 'Assembly-Worker',\n",
       " 'Atog',\n",
       " 'Aura',\n",
       " 'Aurochs',\n",
       " 'Autobot',\n",
       " 'Avatar',\n",
       " 'Azgol',\n",
       " 'Azra',\n",
       " 'B.O.B.',\n",
       " 'Baddest,',\n",
       " 'Badger',\n",
       " 'Barbarian',\n",
       " 'Basilisk',\n",
       " 'Bat',\n",
       " 'Bear',\n",
       " 'Beast',\n",
       " 'Beaver',\n",
       " 'Beeble',\n",
       " 'Beholder',\n",
       " 'Belenon',\n",
       " 'Berserker',\n",
       " 'Biggest,',\n",
       " 'Bird',\n",
       " 'Boar',\n",
       " 'Bolas',\n",
       " 'Bolas’s Meditation Realm',\n",
       " 'Bot',\n",
       " 'Brainiac',\n",
       " 'Bringer',\n",
       " 'Brushwagg',\n",
       " 'Bureaucrat',\n",
       " 'Calix',\n",
       " 'Camel',\n",
       " 'Carrier',\n",
       " 'Cartouche',\n",
       " 'Cat',\n",
       " 'Centaur',\n",
       " 'Cephalid',\n",
       " 'Chameleon',\n",
       " 'Chandra',\n",
       " 'Chicken',\n",
       " 'Child',\n",
       " 'Chimera',\n",
       " 'Citizen',\n",
       " 'Clamfolk',\n",
       " 'Cleric',\n",
       " 'Cloud',\n",
       " 'Cockatrice',\n",
       " 'Construct',\n",
       " 'Contraption',\n",
       " 'Cow',\n",
       " 'Crab',\n",
       " 'Crocodile',\n",
       " 'Curse',\n",
       " 'Cyborg',\n",
       " 'Cyclops',\n",
       " 'Dack',\n",
       " 'Daretti',\n",
       " 'Dauthi',\n",
       " 'Davriel',\n",
       " 'Deer',\n",
       " 'Demigod',\n",
       " 'Demon',\n",
       " 'Desert',\n",
       " 'Designer',\n",
       " 'Devil',\n",
       " 'Dinosaur',\n",
       " 'Djinn',\n",
       " 'Dog',\n",
       " 'Dominaria',\n",
       " 'Domri',\n",
       " 'Donkey',\n",
       " 'Dovin',\n",
       " 'Dragon',\n",
       " 'Drake',\n",
       " 'Dreadnought',\n",
       " 'Drone',\n",
       " 'Druid',\n",
       " 'Dryad',\n",
       " 'Duck',\n",
       " 'Dungeon',\n",
       " 'Dwarf',\n",
       " 'Efreet',\n",
       " 'Egg',\n",
       " 'Elder',\n",
       " 'Eldrazi',\n",
       " 'Elemental',\n",
       " 'Elemental?',\n",
       " 'Elephant',\n",
       " 'Elf',\n",
       " 'Elk',\n",
       " 'Elspeth',\n",
       " 'Elves',\n",
       " 'Equilor',\n",
       " 'Equipment',\n",
       " 'Ergamon',\n",
       " 'Estrid',\n",
       " 'Etiquette',\n",
       " 'Eye',\n",
       " 'Fabacin',\n",
       " 'Faerie',\n",
       " 'Ferret',\n",
       " 'Fire',\n",
       " 'Fish',\n",
       " 'Flagbearer',\n",
       " 'Food',\n",
       " 'Forest',\n",
       " 'Fortification',\n",
       " 'Fox',\n",
       " 'Freyalise',\n",
       " 'Frog',\n",
       " 'Fungus',\n",
       " 'Gamer',\n",
       " 'Gargoyle',\n",
       " 'Garruk',\n",
       " 'Gate',\n",
       " 'Giant',\n",
       " 'Gideon',\n",
       " 'Gnome',\n",
       " 'Goat',\n",
       " 'Goblin',\n",
       " 'God',\n",
       " 'Golem',\n",
       " 'Gorgon',\n",
       " 'Grandchild',\n",
       " 'Gremlin',\n",
       " 'Griffin',\n",
       " 'Gus',\n",
       " 'Hag',\n",
       " 'Harpy',\n",
       " 'Hatificer',\n",
       " 'Head',\n",
       " 'Hellion',\n",
       " 'Hero',\n",
       " 'Hippo',\n",
       " 'Hippogriff',\n",
       " 'Homarid',\n",
       " 'Homunculus',\n",
       " 'Horror',\n",
       " 'Horse',\n",
       " 'Hound',\n",
       " 'Huatli',\n",
       " 'Human',\n",
       " 'Hydra',\n",
       " 'Hyena',\n",
       " 'Igpay',\n",
       " 'Illusion',\n",
       " 'Imp',\n",
       " 'Incarnation',\n",
       " 'Innistrad',\n",
       " 'Insect',\n",
       " 'Inzerva',\n",
       " 'Iquatana',\n",
       " 'Ir',\n",
       " 'Island',\n",
       " 'Jace',\n",
       " 'Jackal',\n",
       " 'Jaya',\n",
       " 'Jellyfish',\n",
       " 'Juggernaut',\n",
       " 'Kaldheim',\n",
       " 'Kamigawa',\n",
       " 'Kangaroo',\n",
       " 'Karn',\n",
       " 'Karsus',\n",
       " 'Kasmina',\n",
       " 'Kavu',\n",
       " 'Kaya',\n",
       " 'Kephalai',\n",
       " 'Key',\n",
       " 'Killbot',\n",
       " 'Kinshala',\n",
       " 'Kiora',\n",
       " 'Kirin',\n",
       " 'Kithkin',\n",
       " 'Knight',\n",
       " 'Kobold',\n",
       " 'Kolbahan',\n",
       " 'Kor',\n",
       " 'Koth',\n",
       " 'Kraken',\n",
       " 'Kyneth',\n",
       " 'Lady',\n",
       " 'Lair',\n",
       " 'Lamia',\n",
       " 'Lammasu',\n",
       " 'Leech',\n",
       " 'Legend',\n",
       " 'Leviathan',\n",
       " 'Lhurgoyf',\n",
       " 'Licid',\n",
       " 'Liliana',\n",
       " 'Lizard',\n",
       " 'Lobster',\n",
       " 'Locus',\n",
       " 'Lorwyn',\n",
       " 'Luvion',\n",
       " 'Mammoth',\n",
       " 'Manticore',\n",
       " 'Master',\n",
       " 'Masticore',\n",
       " 'Mercadia',\n",
       " 'Mercenary',\n",
       " 'Merfolk',\n",
       " 'Metathran',\n",
       " 'Mime',\n",
       " 'Mine',\n",
       " 'Minion',\n",
       " 'Minotaur',\n",
       " 'Mirrodin',\n",
       " 'Moag',\n",
       " 'Mode',\n",
       " 'Mole',\n",
       " 'Monger',\n",
       " 'Mongoose',\n",
       " 'Mongseng',\n",
       " 'Monk',\n",
       " 'Monkey',\n",
       " 'Moonfolk',\n",
       " 'Mountain',\n",
       " 'Mummy',\n",
       " 'Muraganda',\n",
       " 'Mutant',\n",
       " 'Myr',\n",
       " 'Mystic',\n",
       " 'Naga',\n",
       " 'Nahiri',\n",
       " 'Narset',\n",
       " 'Nastiest,',\n",
       " 'Nautilus',\n",
       " 'Nephilim',\n",
       " 'New Phyrexia',\n",
       " 'Nightmare',\n",
       " 'Nightstalker',\n",
       " 'Ninja',\n",
       " 'Nissa',\n",
       " 'Nixilis',\n",
       " 'Noble',\n",
       " 'Noggle',\n",
       " 'Nomad',\n",
       " 'Nymph',\n",
       " 'Octopus',\n",
       " 'Ogre',\n",
       " 'Oko',\n",
       " 'Ooze',\n",
       " 'Orc',\n",
       " 'Orgg',\n",
       " 'Ouphe',\n",
       " 'Ox',\n",
       " 'Oyster',\n",
       " 'Pangolin',\n",
       " 'Paratrooper',\n",
       " 'Peasant',\n",
       " 'Pegasus',\n",
       " 'Penguin',\n",
       " 'Pest',\n",
       " 'Phelddagrif',\n",
       " 'Phoenix',\n",
       " 'Phyrexia',\n",
       " 'Phyrexian',\n",
       " 'Pilot',\n",
       " 'Pirate',\n",
       " 'Plains',\n",
       " 'Plant',\n",
       " 'Power-Plant',\n",
       " 'Praetor',\n",
       " 'Processor',\n",
       " 'Proper',\n",
       " 'Pyrulea',\n",
       " 'Rabbit',\n",
       " 'Rabiah',\n",
       " 'Raccoon',\n",
       " 'Ral',\n",
       " 'Rat',\n",
       " 'Rath',\n",
       " 'Ravnica',\n",
       " 'Rebel',\n",
       " 'Reflection',\n",
       " 'Regatha',\n",
       " 'Rhino',\n",
       " 'Rigger',\n",
       " 'Rogue',\n",
       " 'Rowan',\n",
       " 'Sable',\n",
       " 'Saga',\n",
       " 'Saheeli',\n",
       " 'Salamander',\n",
       " 'Samurai',\n",
       " 'Samut',\n",
       " 'Sarkhan',\n",
       " 'Satyr',\n",
       " 'Scarecrow',\n",
       " 'Scientist',\n",
       " 'Scorpion',\n",
       " 'Scout',\n",
       " 'Segovia',\n",
       " 'Serpent',\n",
       " 'Serra',\n",
       " 'Serra’s Realm',\n",
       " 'Shade',\n",
       " 'Shadowmoor',\n",
       " 'Shaman',\n",
       " 'Shandalar',\n",
       " 'Shapeshifter',\n",
       " 'Sheep',\n",
       " 'Ship',\n",
       " 'Shrine',\n",
       " 'Siren',\n",
       " 'Skeleton',\n",
       " 'Slith',\n",
       " 'Sliver',\n",
       " 'Slug',\n",
       " 'Snake',\n",
       " 'Soldier',\n",
       " 'Soltari',\n",
       " 'Sorin',\n",
       " 'Spawn',\n",
       " 'Specter',\n",
       " 'Spellshaper',\n",
       " 'Sphinx',\n",
       " 'Spider',\n",
       " 'Spike',\n",
       " 'Spirit',\n",
       " 'Sponge',\n",
       " 'Spy',\n",
       " 'Squid',\n",
       " 'Squirrel',\n",
       " 'Starfish',\n",
       " 'Surrakar',\n",
       " 'Swamp',\n",
       " 'Tamiyo',\n",
       " 'Teferi',\n",
       " 'Teyo',\n",
       " 'Tezzeret',\n",
       " 'Thalakos',\n",
       " 'The',\n",
       " 'Thopter',\n",
       " 'Thrull',\n",
       " 'Tibalt',\n",
       " 'Tower',\n",
       " 'Townsfolk',\n",
       " 'Trap',\n",
       " 'Treefolk',\n",
       " 'Trilobite',\n",
       " 'Troll',\n",
       " 'Turtle',\n",
       " 'Ugin',\n",
       " 'Ulgrotha',\n",
       " 'Unicorn',\n",
       " 'Urza',\n",
       " 'Urza’s',\n",
       " 'Valla',\n",
       " 'Vampire',\n",
       " 'Vampyre',\n",
       " 'Vedalken',\n",
       " 'Vehicle',\n",
       " 'Venser',\n",
       " 'Viashino',\n",
       " 'Villain',\n",
       " 'Vivien',\n",
       " 'Volver',\n",
       " 'Vraska',\n",
       " 'Vryn',\n",
       " 'Waiter',\n",
       " 'Wall',\n",
       " 'Warlock',\n",
       " 'Warrior',\n",
       " 'Weird',\n",
       " 'Werewolf',\n",
       " 'Whale',\n",
       " 'Wildfire',\n",
       " 'Will',\n",
       " 'Windgrace',\n",
       " 'Wizard',\n",
       " 'Wolf',\n",
       " 'Wolverine',\n",
       " 'Wombat',\n",
       " 'Worm',\n",
       " 'Wraith',\n",
       " 'Wrenn',\n",
       " 'Wrestler',\n",
       " 'Wurm',\n",
       " 'Xenagos',\n",
       " 'Xerex',\n",
       " 'Yanggu',\n",
       " 'Yanling',\n",
       " 'Yeti',\n",
       " 'Zendikar',\n",
       " 'Zombie',\n",
       " 'Zubera',\n",
       " 'and/or',\n",
       " 'of']"
      ]
     },
     "execution_count": 8,
     "metadata": {},
     "output_type": "execute_result"
    }
   ],
   "source": [
    "cards = db.cards\n",
    "cards.distinct('subtypes')"
   ]
  },
  {
   "cell_type": "markdown",
   "metadata": {},
   "source": [
    "## Distinct types in cards in one deck"
   ]
  },
  {
   "cell_type": "code",
   "execution_count": 24,
   "metadata": {},
   "outputs": [
    {
     "ename": "OperationFailure",
     "evalue": "$lookup requires either 'pipeline' or both 'localField' and 'foreignField' to be specified",
     "output_type": "error",
     "traceback": [
      "\u001b[0;31m---------------------------------------------------------------------------\u001b[0m",
      "\u001b[0;31mOperationFailure\u001b[0m                          Traceback (most recent call last)",
      "\u001b[0;32m<ipython-input-24-f4e0189dea01>\u001b[0m in \u001b[0;36m<module>\u001b[0;34m\u001b[0m\n\u001b[1;32m      7\u001b[0m ]\n\u001b[1;32m      8\u001b[0m \u001b[0;34m\u001b[0m\u001b[0m\n\u001b[0;32m----> 9\u001b[0;31m \u001b[0mres\u001b[0m \u001b[0;34m=\u001b[0m \u001b[0mdecks\u001b[0m\u001b[0;34m.\u001b[0m\u001b[0maggregate\u001b[0m\u001b[0;34m(\u001b[0m\u001b[0mpipe\u001b[0m\u001b[0;34m)\u001b[0m\u001b[0;34m\u001b[0m\u001b[0;34m\u001b[0m\u001b[0m\n\u001b[0m\u001b[1;32m     10\u001b[0m \u001b[0mprint\u001b[0m\u001b[0;34m(\u001b[0m\u001b[0mlist\u001b[0m\u001b[0;34m(\u001b[0m\u001b[0mres\u001b[0m\u001b[0;34m)\u001b[0m\u001b[0;34m)\u001b[0m\u001b[0;34m\u001b[0m\u001b[0;34m\u001b[0m\u001b[0m\n",
      "\u001b[0;32m~/anaconda3/envs/dl/lib/python3.8/site-packages/pymongo/collection.py\u001b[0m in \u001b[0;36maggregate\u001b[0;34m(self, pipeline, session, **kwargs)\u001b[0m\n\u001b[1;32m   2373\u001b[0m         \"\"\"\n\u001b[1;32m   2374\u001b[0m         \u001b[0;32mwith\u001b[0m \u001b[0mself\u001b[0m\u001b[0;34m.\u001b[0m\u001b[0m__database\u001b[0m\u001b[0;34m.\u001b[0m\u001b[0mclient\u001b[0m\u001b[0;34m.\u001b[0m\u001b[0m_tmp_session\u001b[0m\u001b[0;34m(\u001b[0m\u001b[0msession\u001b[0m\u001b[0;34m,\u001b[0m \u001b[0mclose\u001b[0m\u001b[0;34m=\u001b[0m\u001b[0;32mFalse\u001b[0m\u001b[0;34m)\u001b[0m \u001b[0;32mas\u001b[0m \u001b[0ms\u001b[0m\u001b[0;34m:\u001b[0m\u001b[0;34m\u001b[0m\u001b[0;34m\u001b[0m\u001b[0m\n\u001b[0;32m-> 2375\u001b[0;31m             return self._aggregate(_CollectionAggregationCommand,\n\u001b[0m\u001b[1;32m   2376\u001b[0m                                    \u001b[0mpipeline\u001b[0m\u001b[0;34m,\u001b[0m\u001b[0;34m\u001b[0m\u001b[0;34m\u001b[0m\u001b[0m\n\u001b[1;32m   2377\u001b[0m                                    \u001b[0mCommandCursor\u001b[0m\u001b[0;34m,\u001b[0m\u001b[0;34m\u001b[0m\u001b[0;34m\u001b[0m\u001b[0m\n",
      "\u001b[0;32m~/anaconda3/envs/dl/lib/python3.8/site-packages/pymongo/collection.py\u001b[0m in \u001b[0;36m_aggregate\u001b[0;34m(self, aggregation_command, pipeline, cursor_class, session, explicit_session, **kwargs)\u001b[0m\n\u001b[1;32m   2295\u001b[0m             \u001b[0mself\u001b[0m\u001b[0;34m,\u001b[0m \u001b[0mcursor_class\u001b[0m\u001b[0;34m,\u001b[0m \u001b[0mpipeline\u001b[0m\u001b[0;34m,\u001b[0m \u001b[0mkwargs\u001b[0m\u001b[0;34m,\u001b[0m \u001b[0mexplicit_session\u001b[0m\u001b[0;34m,\u001b[0m\u001b[0;34m\u001b[0m\u001b[0;34m\u001b[0m\u001b[0m\n\u001b[1;32m   2296\u001b[0m             user_fields={'cursor': {'firstBatch': 1}}, use_cursor=use_cursor)\n\u001b[0;32m-> 2297\u001b[0;31m         return self.__database.client._retryable_read(\n\u001b[0m\u001b[1;32m   2298\u001b[0m             \u001b[0mcmd\u001b[0m\u001b[0;34m.\u001b[0m\u001b[0mget_cursor\u001b[0m\u001b[0;34m,\u001b[0m \u001b[0mcmd\u001b[0m\u001b[0;34m.\u001b[0m\u001b[0mget_read_preference\u001b[0m\u001b[0;34m(\u001b[0m\u001b[0msession\u001b[0m\u001b[0;34m)\u001b[0m\u001b[0;34m,\u001b[0m \u001b[0msession\u001b[0m\u001b[0;34m,\u001b[0m\u001b[0;34m\u001b[0m\u001b[0;34m\u001b[0m\u001b[0m\n\u001b[1;32m   2299\u001b[0m             retryable=not cmd._performs_write)\n",
      "\u001b[0;32m~/anaconda3/envs/dl/lib/python3.8/site-packages/pymongo/mongo_client.py\u001b[0m in \u001b[0;36m_retryable_read\u001b[0;34m(self, func, read_pref, session, address, retryable, exhaust)\u001b[0m\n\u001b[1;32m   1462\u001b[0m                         \u001b[0;31m# not support retryable reads, raise the last error.\u001b[0m\u001b[0;34m\u001b[0m\u001b[0;34m\u001b[0m\u001b[0;34m\u001b[0m\u001b[0m\n\u001b[1;32m   1463\u001b[0m                         \u001b[0;32mraise\u001b[0m \u001b[0mlast_error\u001b[0m\u001b[0;34m\u001b[0m\u001b[0;34m\u001b[0m\u001b[0m\n\u001b[0;32m-> 1464\u001b[0;31m                     \u001b[0;32mreturn\u001b[0m \u001b[0mfunc\u001b[0m\u001b[0;34m(\u001b[0m\u001b[0msession\u001b[0m\u001b[0;34m,\u001b[0m \u001b[0mserver\u001b[0m\u001b[0;34m,\u001b[0m \u001b[0msock_info\u001b[0m\u001b[0;34m,\u001b[0m \u001b[0mslave_ok\u001b[0m\u001b[0;34m)\u001b[0m\u001b[0;34m\u001b[0m\u001b[0;34m\u001b[0m\u001b[0m\n\u001b[0m\u001b[1;32m   1465\u001b[0m             \u001b[0;32mexcept\u001b[0m \u001b[0mServerSelectionTimeoutError\u001b[0m\u001b[0;34m:\u001b[0m\u001b[0;34m\u001b[0m\u001b[0;34m\u001b[0m\u001b[0m\n\u001b[1;32m   1466\u001b[0m                 \u001b[0;32mif\u001b[0m \u001b[0mretrying\u001b[0m\u001b[0;34m:\u001b[0m\u001b[0;34m\u001b[0m\u001b[0;34m\u001b[0m\u001b[0m\n",
      "\u001b[0;32m~/anaconda3/envs/dl/lib/python3.8/site-packages/pymongo/aggregation.py\u001b[0m in \u001b[0;36mget_cursor\u001b[0;34m(self, session, server, sock_info, slave_ok)\u001b[0m\n\u001b[1;32m    134\u001b[0m \u001b[0;34m\u001b[0m\u001b[0m\n\u001b[1;32m    135\u001b[0m         \u001b[0;31m# Run command.\u001b[0m\u001b[0;34m\u001b[0m\u001b[0;34m\u001b[0m\u001b[0;34m\u001b[0m\u001b[0m\n\u001b[0;32m--> 136\u001b[0;31m         result = sock_info.command(\n\u001b[0m\u001b[1;32m    137\u001b[0m             \u001b[0mself\u001b[0m\u001b[0;34m.\u001b[0m\u001b[0m_database\u001b[0m\u001b[0;34m.\u001b[0m\u001b[0mname\u001b[0m\u001b[0;34m,\u001b[0m\u001b[0;34m\u001b[0m\u001b[0;34m\u001b[0m\u001b[0m\n\u001b[1;32m    138\u001b[0m             \u001b[0mcmd\u001b[0m\u001b[0;34m,\u001b[0m\u001b[0;34m\u001b[0m\u001b[0;34m\u001b[0m\u001b[0m\n",
      "\u001b[0;32m~/anaconda3/envs/dl/lib/python3.8/site-packages/pymongo/pool.py\u001b[0m in \u001b[0;36mcommand\u001b[0;34m(self, dbname, spec, slave_ok, read_preference, codec_options, check, allowable_errors, check_keys, read_concern, write_concern, parse_write_concern_error, collation, session, client, retryable_write, publish_events, user_fields)\u001b[0m\n\u001b[1;32m    601\u001b[0m             \u001b[0mself\u001b[0m\u001b[0;34m.\u001b[0m\u001b[0m_raise_if_not_writable\u001b[0m\u001b[0;34m(\u001b[0m\u001b[0munacknowledged\u001b[0m\u001b[0;34m)\u001b[0m\u001b[0;34m\u001b[0m\u001b[0;34m\u001b[0m\u001b[0m\n\u001b[1;32m    602\u001b[0m         \u001b[0;32mtry\u001b[0m\u001b[0;34m:\u001b[0m\u001b[0;34m\u001b[0m\u001b[0;34m\u001b[0m\u001b[0m\n\u001b[0;32m--> 603\u001b[0;31m             return command(self.sock, dbname, spec, slave_ok,\n\u001b[0m\u001b[1;32m    604\u001b[0m                            \u001b[0mself\u001b[0m\u001b[0;34m.\u001b[0m\u001b[0mis_mongos\u001b[0m\u001b[0;34m,\u001b[0m \u001b[0mread_preference\u001b[0m\u001b[0;34m,\u001b[0m \u001b[0mcodec_options\u001b[0m\u001b[0;34m,\u001b[0m\u001b[0;34m\u001b[0m\u001b[0;34m\u001b[0m\u001b[0m\n\u001b[1;32m    605\u001b[0m                            \u001b[0msession\u001b[0m\u001b[0;34m,\u001b[0m \u001b[0mclient\u001b[0m\u001b[0;34m,\u001b[0m \u001b[0mcheck\u001b[0m\u001b[0;34m,\u001b[0m \u001b[0mallowable_errors\u001b[0m\u001b[0;34m,\u001b[0m\u001b[0;34m\u001b[0m\u001b[0;34m\u001b[0m\u001b[0m\n",
      "\u001b[0;32m~/anaconda3/envs/dl/lib/python3.8/site-packages/pymongo/network.py\u001b[0m in \u001b[0;36mcommand\u001b[0;34m(sock, dbname, spec, slave_ok, is_mongos, read_preference, codec_options, session, client, check, allowable_errors, address, check_keys, listeners, max_bson_size, read_concern, parse_write_concern_error, collation, compression_ctx, use_op_msg, unacknowledged, user_fields)\u001b[0m\n\u001b[1;32m    163\u001b[0m                 \u001b[0mclient\u001b[0m\u001b[0;34m.\u001b[0m\u001b[0m_process_response\u001b[0m\u001b[0;34m(\u001b[0m\u001b[0mresponse_doc\u001b[0m\u001b[0;34m,\u001b[0m \u001b[0msession\u001b[0m\u001b[0;34m)\u001b[0m\u001b[0;34m\u001b[0m\u001b[0;34m\u001b[0m\u001b[0m\n\u001b[1;32m    164\u001b[0m             \u001b[0;32mif\u001b[0m \u001b[0mcheck\u001b[0m\u001b[0;34m:\u001b[0m\u001b[0;34m\u001b[0m\u001b[0;34m\u001b[0m\u001b[0m\n\u001b[0;32m--> 165\u001b[0;31m                 helpers._check_command_response(\n\u001b[0m\u001b[1;32m    166\u001b[0m                     \u001b[0mresponse_doc\u001b[0m\u001b[0;34m,\u001b[0m \u001b[0;32mNone\u001b[0m\u001b[0;34m,\u001b[0m \u001b[0mallowable_errors\u001b[0m\u001b[0;34m,\u001b[0m\u001b[0;34m\u001b[0m\u001b[0;34m\u001b[0m\u001b[0m\n\u001b[1;32m    167\u001b[0m                     parse_write_concern_error=parse_write_concern_error)\n",
      "\u001b[0;32m~/anaconda3/envs/dl/lib/python3.8/site-packages/pymongo/helpers.py\u001b[0m in \u001b[0;36m_check_command_response\u001b[0;34m(response, msg, allowable_errors, parse_write_concern_error)\u001b[0m\n\u001b[1;32m    157\u001b[0m \u001b[0;34m\u001b[0m\u001b[0m\n\u001b[1;32m    158\u001b[0m             \u001b[0mmsg\u001b[0m \u001b[0;34m=\u001b[0m \u001b[0mmsg\u001b[0m \u001b[0;32mor\u001b[0m \u001b[0;34m\"%s\"\u001b[0m\u001b[0;34m\u001b[0m\u001b[0;34m\u001b[0m\u001b[0m\n\u001b[0;32m--> 159\u001b[0;31m             \u001b[0;32mraise\u001b[0m \u001b[0mOperationFailure\u001b[0m\u001b[0;34m(\u001b[0m\u001b[0mmsg\u001b[0m \u001b[0;34m%\u001b[0m \u001b[0merrmsg\u001b[0m\u001b[0;34m,\u001b[0m \u001b[0mcode\u001b[0m\u001b[0;34m,\u001b[0m \u001b[0mresponse\u001b[0m\u001b[0;34m)\u001b[0m\u001b[0;34m\u001b[0m\u001b[0;34m\u001b[0m\u001b[0m\n\u001b[0m\u001b[1;32m    160\u001b[0m \u001b[0;34m\u001b[0m\u001b[0m\n\u001b[1;32m    161\u001b[0m \u001b[0;34m\u001b[0m\u001b[0m\n",
      "\u001b[0;31mOperationFailure\u001b[0m: $lookup requires either 'pipeline' or both 'localField' and 'foreignField' to be specified"
     ]
    }
   ],
   "source": [
    "from bson.objectid import ObjectId\n",
    "\n",
    "pipe = [\n",
    "    { '$match' : { '_id' : ObjectId('5eb5a74a2ae3aa4935961ba6')}},\n",
    "    { '$lookup': {'from': 'cards', 'as' : 'cards'} }\n",
    "\n",
    "]\n",
    "\n",
    "res = decks.aggregate(pipe)\n",
    "print(list(res))"
   ]
  },
  {
   "cell_type": "code",
   "execution_count": 9,
   "metadata": {},
   "outputs": [
    {
     "ename": "OperationFailure",
     "evalue": "The field 'id' must be an accumulator object",
     "output_type": "error",
     "traceback": [
      "\u001b[0;31m---------------------------------------------------------------------------\u001b[0m",
      "\u001b[0;31mOperationFailure\u001b[0m                          Traceback (most recent call last)",
      "\u001b[0;32m<ipython-input-9-c0348b17cffc>\u001b[0m in \u001b[0;36m<module>\u001b[0;34m\u001b[0m\n\u001b[0;32m----> 1\u001b[0;31m res = decks.aggregate([\n\u001b[0m\u001b[1;32m      2\u001b[0m     {\n\u001b[1;32m      3\u001b[0m         '$group': {\n\u001b[1;32m      4\u001b[0m             \u001b[0;34m'id'\u001b[0m\u001b[0;34m:\u001b[0m \u001b[0;34m'$type'\u001b[0m\u001b[0;34m\u001b[0m\u001b[0;34m\u001b[0m\u001b[0m\n\u001b[1;32m      5\u001b[0m         }\n",
      "\u001b[0;32m~/anaconda3/envs/dl/lib/python3.8/site-packages/pymongo/collection.py\u001b[0m in \u001b[0;36maggregate\u001b[0;34m(self, pipeline, session, **kwargs)\u001b[0m\n\u001b[1;32m   2373\u001b[0m         \"\"\"\n\u001b[1;32m   2374\u001b[0m         \u001b[0;32mwith\u001b[0m \u001b[0mself\u001b[0m\u001b[0;34m.\u001b[0m\u001b[0m__database\u001b[0m\u001b[0;34m.\u001b[0m\u001b[0mclient\u001b[0m\u001b[0;34m.\u001b[0m\u001b[0m_tmp_session\u001b[0m\u001b[0;34m(\u001b[0m\u001b[0msession\u001b[0m\u001b[0;34m,\u001b[0m \u001b[0mclose\u001b[0m\u001b[0;34m=\u001b[0m\u001b[0;32mFalse\u001b[0m\u001b[0;34m)\u001b[0m \u001b[0;32mas\u001b[0m \u001b[0ms\u001b[0m\u001b[0;34m:\u001b[0m\u001b[0;34m\u001b[0m\u001b[0;34m\u001b[0m\u001b[0m\n\u001b[0;32m-> 2375\u001b[0;31m             return self._aggregate(_CollectionAggregationCommand,\n\u001b[0m\u001b[1;32m   2376\u001b[0m                                    \u001b[0mpipeline\u001b[0m\u001b[0;34m,\u001b[0m\u001b[0;34m\u001b[0m\u001b[0;34m\u001b[0m\u001b[0m\n\u001b[1;32m   2377\u001b[0m                                    \u001b[0mCommandCursor\u001b[0m\u001b[0;34m,\u001b[0m\u001b[0;34m\u001b[0m\u001b[0;34m\u001b[0m\u001b[0m\n",
      "\u001b[0;32m~/anaconda3/envs/dl/lib/python3.8/site-packages/pymongo/collection.py\u001b[0m in \u001b[0;36m_aggregate\u001b[0;34m(self, aggregation_command, pipeline, cursor_class, session, explicit_session, **kwargs)\u001b[0m\n\u001b[1;32m   2295\u001b[0m             \u001b[0mself\u001b[0m\u001b[0;34m,\u001b[0m \u001b[0mcursor_class\u001b[0m\u001b[0;34m,\u001b[0m \u001b[0mpipeline\u001b[0m\u001b[0;34m,\u001b[0m \u001b[0mkwargs\u001b[0m\u001b[0;34m,\u001b[0m \u001b[0mexplicit_session\u001b[0m\u001b[0;34m,\u001b[0m\u001b[0;34m\u001b[0m\u001b[0;34m\u001b[0m\u001b[0m\n\u001b[1;32m   2296\u001b[0m             user_fields={'cursor': {'firstBatch': 1}}, use_cursor=use_cursor)\n\u001b[0;32m-> 2297\u001b[0;31m         return self.__database.client._retryable_read(\n\u001b[0m\u001b[1;32m   2298\u001b[0m             \u001b[0mcmd\u001b[0m\u001b[0;34m.\u001b[0m\u001b[0mget_cursor\u001b[0m\u001b[0;34m,\u001b[0m \u001b[0mcmd\u001b[0m\u001b[0;34m.\u001b[0m\u001b[0mget_read_preference\u001b[0m\u001b[0;34m(\u001b[0m\u001b[0msession\u001b[0m\u001b[0;34m)\u001b[0m\u001b[0;34m,\u001b[0m \u001b[0msession\u001b[0m\u001b[0;34m,\u001b[0m\u001b[0;34m\u001b[0m\u001b[0;34m\u001b[0m\u001b[0m\n\u001b[1;32m   2299\u001b[0m             retryable=not cmd._performs_write)\n",
      "\u001b[0;32m~/anaconda3/envs/dl/lib/python3.8/site-packages/pymongo/mongo_client.py\u001b[0m in \u001b[0;36m_retryable_read\u001b[0;34m(self, func, read_pref, session, address, retryable, exhaust)\u001b[0m\n\u001b[1;32m   1462\u001b[0m                         \u001b[0;31m# not support retryable reads, raise the last error.\u001b[0m\u001b[0;34m\u001b[0m\u001b[0;34m\u001b[0m\u001b[0;34m\u001b[0m\u001b[0m\n\u001b[1;32m   1463\u001b[0m                         \u001b[0;32mraise\u001b[0m \u001b[0mlast_error\u001b[0m\u001b[0;34m\u001b[0m\u001b[0;34m\u001b[0m\u001b[0m\n\u001b[0;32m-> 1464\u001b[0;31m                     \u001b[0;32mreturn\u001b[0m \u001b[0mfunc\u001b[0m\u001b[0;34m(\u001b[0m\u001b[0msession\u001b[0m\u001b[0;34m,\u001b[0m \u001b[0mserver\u001b[0m\u001b[0;34m,\u001b[0m \u001b[0msock_info\u001b[0m\u001b[0;34m,\u001b[0m \u001b[0mslave_ok\u001b[0m\u001b[0;34m)\u001b[0m\u001b[0;34m\u001b[0m\u001b[0;34m\u001b[0m\u001b[0m\n\u001b[0m\u001b[1;32m   1465\u001b[0m             \u001b[0;32mexcept\u001b[0m \u001b[0mServerSelectionTimeoutError\u001b[0m\u001b[0;34m:\u001b[0m\u001b[0;34m\u001b[0m\u001b[0;34m\u001b[0m\u001b[0m\n\u001b[1;32m   1466\u001b[0m                 \u001b[0;32mif\u001b[0m \u001b[0mretrying\u001b[0m\u001b[0;34m:\u001b[0m\u001b[0;34m\u001b[0m\u001b[0;34m\u001b[0m\u001b[0m\n",
      "\u001b[0;32m~/anaconda3/envs/dl/lib/python3.8/site-packages/pymongo/aggregation.py\u001b[0m in \u001b[0;36mget_cursor\u001b[0;34m(self, session, server, sock_info, slave_ok)\u001b[0m\n\u001b[1;32m    134\u001b[0m \u001b[0;34m\u001b[0m\u001b[0m\n\u001b[1;32m    135\u001b[0m         \u001b[0;31m# Run command.\u001b[0m\u001b[0;34m\u001b[0m\u001b[0;34m\u001b[0m\u001b[0;34m\u001b[0m\u001b[0m\n\u001b[0;32m--> 136\u001b[0;31m         result = sock_info.command(\n\u001b[0m\u001b[1;32m    137\u001b[0m             \u001b[0mself\u001b[0m\u001b[0;34m.\u001b[0m\u001b[0m_database\u001b[0m\u001b[0;34m.\u001b[0m\u001b[0mname\u001b[0m\u001b[0;34m,\u001b[0m\u001b[0;34m\u001b[0m\u001b[0;34m\u001b[0m\u001b[0m\n\u001b[1;32m    138\u001b[0m             \u001b[0mcmd\u001b[0m\u001b[0;34m,\u001b[0m\u001b[0;34m\u001b[0m\u001b[0;34m\u001b[0m\u001b[0m\n",
      "\u001b[0;32m~/anaconda3/envs/dl/lib/python3.8/site-packages/pymongo/pool.py\u001b[0m in \u001b[0;36mcommand\u001b[0;34m(self, dbname, spec, slave_ok, read_preference, codec_options, check, allowable_errors, check_keys, read_concern, write_concern, parse_write_concern_error, collation, session, client, retryable_write, publish_events, user_fields)\u001b[0m\n\u001b[1;32m    601\u001b[0m             \u001b[0mself\u001b[0m\u001b[0;34m.\u001b[0m\u001b[0m_raise_if_not_writable\u001b[0m\u001b[0;34m(\u001b[0m\u001b[0munacknowledged\u001b[0m\u001b[0;34m)\u001b[0m\u001b[0;34m\u001b[0m\u001b[0;34m\u001b[0m\u001b[0m\n\u001b[1;32m    602\u001b[0m         \u001b[0;32mtry\u001b[0m\u001b[0;34m:\u001b[0m\u001b[0;34m\u001b[0m\u001b[0;34m\u001b[0m\u001b[0m\n\u001b[0;32m--> 603\u001b[0;31m             return command(self.sock, dbname, spec, slave_ok,\n\u001b[0m\u001b[1;32m    604\u001b[0m                            \u001b[0mself\u001b[0m\u001b[0;34m.\u001b[0m\u001b[0mis_mongos\u001b[0m\u001b[0;34m,\u001b[0m \u001b[0mread_preference\u001b[0m\u001b[0;34m,\u001b[0m \u001b[0mcodec_options\u001b[0m\u001b[0;34m,\u001b[0m\u001b[0;34m\u001b[0m\u001b[0;34m\u001b[0m\u001b[0m\n\u001b[1;32m    605\u001b[0m                            \u001b[0msession\u001b[0m\u001b[0;34m,\u001b[0m \u001b[0mclient\u001b[0m\u001b[0;34m,\u001b[0m \u001b[0mcheck\u001b[0m\u001b[0;34m,\u001b[0m \u001b[0mallowable_errors\u001b[0m\u001b[0;34m,\u001b[0m\u001b[0;34m\u001b[0m\u001b[0;34m\u001b[0m\u001b[0m\n",
      "\u001b[0;32m~/anaconda3/envs/dl/lib/python3.8/site-packages/pymongo/network.py\u001b[0m in \u001b[0;36mcommand\u001b[0;34m(sock, dbname, spec, slave_ok, is_mongos, read_preference, codec_options, session, client, check, allowable_errors, address, check_keys, listeners, max_bson_size, read_concern, parse_write_concern_error, collation, compression_ctx, use_op_msg, unacknowledged, user_fields)\u001b[0m\n\u001b[1;32m    163\u001b[0m                 \u001b[0mclient\u001b[0m\u001b[0;34m.\u001b[0m\u001b[0m_process_response\u001b[0m\u001b[0;34m(\u001b[0m\u001b[0mresponse_doc\u001b[0m\u001b[0;34m,\u001b[0m \u001b[0msession\u001b[0m\u001b[0;34m)\u001b[0m\u001b[0;34m\u001b[0m\u001b[0;34m\u001b[0m\u001b[0m\n\u001b[1;32m    164\u001b[0m             \u001b[0;32mif\u001b[0m \u001b[0mcheck\u001b[0m\u001b[0;34m:\u001b[0m\u001b[0;34m\u001b[0m\u001b[0;34m\u001b[0m\u001b[0m\n\u001b[0;32m--> 165\u001b[0;31m                 helpers._check_command_response(\n\u001b[0m\u001b[1;32m    166\u001b[0m                     \u001b[0mresponse_doc\u001b[0m\u001b[0;34m,\u001b[0m \u001b[0;32mNone\u001b[0m\u001b[0;34m,\u001b[0m \u001b[0mallowable_errors\u001b[0m\u001b[0;34m,\u001b[0m\u001b[0;34m\u001b[0m\u001b[0;34m\u001b[0m\u001b[0m\n\u001b[1;32m    167\u001b[0m                     parse_write_concern_error=parse_write_concern_error)\n",
      "\u001b[0;32m~/anaconda3/envs/dl/lib/python3.8/site-packages/pymongo/helpers.py\u001b[0m in \u001b[0;36m_check_command_response\u001b[0;34m(response, msg, allowable_errors, parse_write_concern_error)\u001b[0m\n\u001b[1;32m    157\u001b[0m \u001b[0;34m\u001b[0m\u001b[0m\n\u001b[1;32m    158\u001b[0m             \u001b[0mmsg\u001b[0m \u001b[0;34m=\u001b[0m \u001b[0mmsg\u001b[0m \u001b[0;32mor\u001b[0m \u001b[0;34m\"%s\"\u001b[0m\u001b[0;34m\u001b[0m\u001b[0;34m\u001b[0m\u001b[0m\n\u001b[0;32m--> 159\u001b[0;31m             \u001b[0;32mraise\u001b[0m \u001b[0mOperationFailure\u001b[0m\u001b[0;34m(\u001b[0m\u001b[0mmsg\u001b[0m \u001b[0;34m%\u001b[0m \u001b[0merrmsg\u001b[0m\u001b[0;34m,\u001b[0m \u001b[0mcode\u001b[0m\u001b[0;34m,\u001b[0m \u001b[0mresponse\u001b[0m\u001b[0;34m)\u001b[0m\u001b[0;34m\u001b[0m\u001b[0;34m\u001b[0m\u001b[0m\n\u001b[0m\u001b[1;32m    160\u001b[0m \u001b[0;34m\u001b[0m\u001b[0m\n\u001b[1;32m    161\u001b[0m \u001b[0;34m\u001b[0m\u001b[0m\n",
      "\u001b[0;31mOperationFailure\u001b[0m: The field 'id' must be an accumulator object"
     ]
    }
   ],
   "source": [
    "res = decks.aggregate([\n",
    "    {\n",
    "        '$group': {\n",
    "            '$id': '$type'\n",
    "        }\n",
    "    }\n",
    "])"
   ]
  },
  {
   "cell_type": "code",
   "execution_count": null,
   "metadata": {},
   "outputs": [],
   "source": []
  }
 ],
 "metadata": {
  "kernelspec": {
   "display_name": "Python 3",
   "language": "python",
   "name": "python3"
  },
  "language_info": {
   "codemirror_mode": {
    "name": "ipython",
    "version": 3
   },
   "file_extension": ".py",
   "mimetype": "text/x-python",
   "name": "python",
   "nbconvert_exporter": "python",
   "pygments_lexer": "ipython3",
   "version": "3.8.2"
  }
 },
 "nbformat": 4,
 "nbformat_minor": 2
}
